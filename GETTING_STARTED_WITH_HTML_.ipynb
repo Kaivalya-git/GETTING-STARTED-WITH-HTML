{
  "nbformat": 4,
  "nbformat_minor": 0,
  "metadata": {
    "colab": {
      "provenance": []
    },
    "kernelspec": {
      "name": "python3",
      "display_name": "Python 3"
    },
    "language_info": {
      "name": "python"
    }
  },
  "cells": [
    {
      "cell_type": "code",
      "execution_count": null,
      "metadata": {
        "id": "_3qQThbJKTKC"
      },
      "outputs": [],
      "source": [
        "#2. Write a simple program in HTML  that displays the heading \"HTML defines the content and structure of your website” on the web browser?\n",
        " <!DOCTYPE html>\n",
        " <html>\n",
        " <head>\n",
        "   <title> a simple program in HTML  that displays the heading </title>\n",
        " </head>\n",
        " <body>\n",
        "    <h6> HTML defines the content and structure of your website </h6>\n",
        " </body>\n",
        " <html>"
      ]
    },
    {
      "cell_type": "code",
      "source": [
        "# 3.Write an HTML program that includes a heading, a paragraph of text, a horizontal line, and a line break. Arrange these elements to create a simple web page layout?\n",
        "  <!DOCTYPE html>\n",
        "  <html>\n",
        "  <head>\n",
        "    <title> A simple HTML program </title>\n",
        "  </head>\n",
        "  <body>\n",
        "   <h5> HTML</h5>\n",
        "   <p> HTML, which stands for HyperText Markup Language, is the foundation of web pages, providing structure  <br> and content by using tags and elements that browsers interpret to display text, images, and other media. </p>\n",
        "   <hr>\n",
        "  </body>\n",
        "  </html>"
      ],
      "metadata": {
        "id": "40QdJLytL93W"
      },
      "execution_count": null,
      "outputs": []
    }
  ]
}